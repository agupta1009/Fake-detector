{
  "nbformat": 4,
  "nbformat_minor": 0,
  "metadata": {
    "colab": {
      "name": "preprocessing_Fake_video.ipynb",
      "provenance": [],
      "collapsed_sections": []
    },
    "kernelspec": {
      "name": "python3",
      "display_name": "Python 3"
    },
    "language_info": {
      "name": "python"
    },
    "accelerator": "GPU"
  },
  "cells": [
    {
      "cell_type": "code",
      "metadata": {
        "colab": {
          "base_uri": "https://localhost:8080/"
        },
        "id": "EStKJ9SwHeQI",
        "outputId": "0153a1fc-f18b-4de7-d195-bca14069d0dc"
      },
      "source": [
        "pip install MTCNN"
      ],
      "execution_count": null,
      "outputs": [
        {
          "output_type": "stream",
          "text": [
            "Collecting MTCNN\n",
            "\u001b[?25l  Downloading https://files.pythonhosted.org/packages/67/43/abee91792797c609c1bf30f1112117f7a87a713ebaa6ec5201d5555a73ef/mtcnn-0.1.0-py3-none-any.whl (2.3MB)\n",
            "\u001b[K     |████████████████████████████████| 2.3MB 6.7MB/s \n",
            "\u001b[?25hRequirement already satisfied: keras>=2.0.0 in /usr/local/lib/python3.7/dist-packages (from MTCNN) (2.4.3)\n",
            "Requirement already satisfied: opencv-python>=4.1.0 in /usr/local/lib/python3.7/dist-packages (from MTCNN) (4.1.2.30)\n",
            "Requirement already satisfied: h5py in /usr/local/lib/python3.7/dist-packages (from keras>=2.0.0->MTCNN) (2.10.0)\n",
            "Requirement already satisfied: numpy>=1.9.1 in /usr/local/lib/python3.7/dist-packages (from keras>=2.0.0->MTCNN) (1.19.5)\n",
            "Requirement already satisfied: scipy>=0.14 in /usr/local/lib/python3.7/dist-packages (from keras>=2.0.0->MTCNN) (1.4.1)\n",
            "Requirement already satisfied: pyyaml in /usr/local/lib/python3.7/dist-packages (from keras>=2.0.0->MTCNN) (3.13)\n",
            "Requirement already satisfied: six in /usr/local/lib/python3.7/dist-packages (from h5py->keras>=2.0.0->MTCNN) (1.15.0)\n",
            "Installing collected packages: MTCNN\n",
            "Successfully installed MTCNN-0.1.0\n"
          ],
          "name": "stdout"
        }
      ]
    },
    {
      "cell_type": "code",
      "metadata": {
        "id": "_DNxgz8CP9FL"
      },
      "source": [
        "# from mtcnn import MTCNN\n",
        "import os\n",
        "import glob\n",
        "import time\n",
        "import cv2\n",
        "import torch\n",
        "from PIL import Image\n",
        "import numpy as np\n",
        "import pandas as pd\n",
        "from tqdm.notebook import tqdm"
      ],
      "execution_count": null,
      "outputs": []
    },
    {
      "cell_type": "code",
      "metadata": {
        "id": "RdUZ28vbOVIR"
      },
      "source": [
        ""
      ],
      "execution_count": null,
      "outputs": []
    },
    {
      "cell_type": "code",
      "metadata": {
        "id": "O0fm-zs4OVBd"
      },
      "source": [
        ""
      ],
      "execution_count": null,
      "outputs": []
    },
    {
      "cell_type": "code",
      "metadata": {
        "id": "P9Ofo5BJOU5r"
      },
      "source": [
        ""
      ],
      "execution_count": null,
      "outputs": []
    },
    {
      "cell_type": "code",
      "metadata": {
        "colab": {
          "base_uri": "https://localhost:8080/"
        },
        "id": "Kpm4GdZ1IAZi",
        "outputId": "c05f336b-dddb-436e-a65b-96386d88c2cf"
      },
      "source": [
        "import os\n",
        "import glob\n",
        "import time\n",
        "import torch\n",
        "import cv2\n",
        "from PIL import Image\n",
        "import numpy as np\n",
        "import pandas as pd\n",
        "from matplotlib import pyplot as plt\n",
        "from tqdm.notebook import tqdm\n",
        "\n",
        "# See github.com/timesler/facenet-pytorch:\n",
        "from facenet_pytorch import MTCNN, InceptionResnetV1, extract_face\n",
        "\n",
        "device = 'cuda:0' if torch.cuda.is_available() else 'cpu'\n",
        "print(f'Running on device: {device}')"
      ],
      "execution_count": null,
      "outputs": [
        {
          "output_type": "stream",
          "text": [
            "Running on device: cuda:0\n"
          ],
          "name": "stdout"
        }
      ]
    },
    {
      "cell_type": "code",
      "metadata": {
        "id": "xaxO6SbtIdPa"
      },
      "source": [
        "mtcnn = MTCNN()\n",
        "\n",
        "# Load facial recognition model\n"
      ],
      "execution_count": null,
      "outputs": []
    },
    {
      "cell_type": "code",
      "metadata": {
        "colab": {
          "base_uri": "https://localhost:8080/"
        },
        "id": "CZfU1DyD-FNL",
        "outputId": "bd36c8a5-ec35-47bc-83b4-7f6669c8dca7"
      },
      "source": [
        "print(len(faces))"
      ],
      "execution_count": null,
      "outputs": [
        {
          "output_type": "stream",
          "text": [
            "0\n"
          ],
          "name": "stdout"
        }
      ]
    },
    {
      "cell_type": "code",
      "metadata": {
        "colab": {
          "base_uri": "https://localhost:8080/"
        },
        "id": "aAlg94teK6mJ",
        "outputId": "cde3b1ec-f954-415d-bc5a-b7dc2fb0ef4b"
      },
      "source": [
        "detection_pipeline = DetectionPipeline(detector=mtcnn, batch_size=60, resize=0.25)\n",
        "filenames = glob.glob('/content/drive/MyDrive/train/real/*.mp4')\n",
        "\n",
        "filenames=filenames[:1]\n",
        "\n",
        "# with torch.no_grad():\n",
        "#     for i, filename in tqdm(enumerate(filenames), total=len(filenames)):\n",
        "        \n",
        "#         try:\n",
        "#             # Load frames and find faces\n",
        "#             faces = detection_pipeline(filename)\n",
        "#             # print(faces)\n",
        "#         except KeyboardInterrupt:\n",
        "#             print('\\nStopped.')\n",
        "#             break\n",
        "face = detection_pipeline(filenames[0])"
      ],
      "execution_count": null,
      "outputs": [
        {
          "output_type": "stream",
          "text": [
            "464\n"
          ],
          "name": "stdout"
        }
      ]
    },
    {
      "cell_type": "code",
      "metadata": {
        "id": "WteWyLcmHOzB"
      },
      "source": [
        "import tensorflow as tf"
      ],
      "execution_count": null,
      "outputs": []
    },
    {
      "cell_type": "code",
      "metadata": {
        "id": "3kRlI3sbnmu-"
      },
      "source": [
        "filenames = glob.glob('/content/drive/MyDrive/train/real/*.mp4')\n",
        "detector = MTCNN()\n",
        "filenames=filenames[:1]\n",
        "v_cap = cv2.VideoCapture(filenames[0])\n",
        "v_len = int(v_cap.get(cv2.CAP_PROP_FRAME_COUNT))\n",
        "uncropped_file_list = []\n",
        "k=0\n",
        "while(v_cap.isOpened()):\n",
        "          \n",
        "        \n",
        "              # Load frame\n",
        "          success, img = v_cap.read()\n",
        "          \n",
        "          # scale = 60  \n",
        "          # width = int(img.shape[1] * scale / 100)  \n",
        "          # height = int(img.shape[0] * scale / 100)  \n",
        "          # dim = (width, height)  \n",
        "          # # resize image  \n",
        "          # img = cv2.resize(img, dim, interpolation=cv2.INTER_AREA)  \n",
        "          if not success:\n",
        "              continue\n",
        "          # img = cv2.cvtColor(img, cv2.COLOR_BGR2RGB)\n",
        "          \n",
        "          # cv2.imwrite('/content/drive/MyDrive/te/t' + str(k)+'.jpg', img)\n",
        "            # frame = Image.fromarray(frame)\n",
        "          data=detector.detect_faces(img)\n",
        "          if data ==[]:\n",
        "              uncropped_file_list.append(f_path)\n",
        "          else: \n",
        "                for i, faces in enumerate(data): # iterate through all the faces found\n",
        "                  box=faces['box']  # get the box for each face                \n",
        "                  biggest=0                    \n",
        "                  area = box[3]  * box[2]\n",
        "                  if area>biggest:\n",
        "                      biggest=area\n",
        "                      bbox=box \n",
        "                bbox[0]= 0 if bbox[0]<0 else bbox[0]\n",
        "                bbox[1]= 0 if bbox[1]<0 else bbox[1]\n",
        "                img=img[bbox[1]: bbox[1]+bbox[3],bbox[0]: bbox[0]+ bbox[2]] \n",
        "                cv2.imwrite('/content/drive/MyDrive/te/t' + str(k)+'.jpg', img)\n",
        "                k+=1\n",
        "          if cv2.waitKey(25) & 0xFF == ord('q'):\n",
        "              break\n",
        "\n",
        "\n",
        "v_cap.release()\n",
        "cv2.destroyAllWindows()\n"
      ],
      "execution_count": null,
      "outputs": []
    },
    {
      "cell_type": "code",
      "metadata": {
        "id": "A806ipgB-tNG"
      },
      "source": [
        ""
      ],
      "execution_count": null,
      "outputs": []
    },
    {
      "cell_type": "code",
      "metadata": {
        "colab": {
          "base_uri": "https://localhost:8080/"
        },
        "id": "cEHMy6ICGjtw",
        "outputId": "15f088a0-f2dd-4351-ba7d-7f84cc79d285"
      },
      "source": [
        "uncropped_file_list"
      ],
      "execution_count": null,
      "outputs": [
        {
          "output_type": "execute_result",
          "data": {
            "text/plain": [
              "[]"
            ]
          },
          "metadata": {
            "tags": []
          },
          "execution_count": 21
        }
      ]
    },
    {
      "cell_type": "code",
      "metadata": {
        "id": "mUlR1ZLQLx8C"
      },
      "source": [
        "import shutil\n",
        "shutil.rmtree('/content/drive/MyDrive/frame_train/real')"
      ],
      "execution_count": null,
      "outputs": []
    },
    {
      "cell_type": "code",
      "metadata": {
        "id": "Yh376c03MEg0"
      },
      "source": [
        "face_cascade = cv2.CascadeClassifier(cv2.data.haarcascades+'haarcascade_frontalface_default.xml')"
      ],
      "execution_count": null,
      "outputs": []
    },
    {
      "cell_type": "code",
      "metadata": {
        "id": "0HsjezrloMTS"
      },
      "source": [
        "def detectFaces(path,f,dest):\n",
        "  \n",
        "  filenames = glob.glob(path+'/*.mp4')\n",
        "  k=0\n",
        "  \n",
        "  for filename in filenames:\n",
        "    \n",
        "    v_cap = cv2.VideoCapture(filename)\n",
        "    v_len = int(v_cap.get(cv2.CAP_PROP_FRAME_COUNT))\n",
        "    # print(v_len)\n",
        "    \n",
        "    nof = v_len//f\n",
        "    \n",
        "    j=0\n",
        "    cnt = 0\n",
        "    while(cnt<f and j<v_len):\n",
        "          \n",
        "          v_cap.set(1,j)\n",
        "              # Load frame\n",
        "          success, img = v_cap.read()\n",
        "          \n",
        "         \n",
        "          if not success:\n",
        "              continue\n",
        "          gray = cv2.cvtColor(img, cv2.COLOR_BGR2GRAY)\n",
        "          faces = face_cascade.detectMultiScale(gray, 1.1, 4)\n",
        "          faces = faces[:1]\n",
        "          for (x, y, w, h) in faces:\n",
        "            cv2.rectangle(img, (x, y), (x+w, y+h), (255, 0, 0), 2)\n",
        "    # Display\n",
        "          \n",
        "          cv2.imwrite(dest + str(k)+'.jpg', img[y:y+h,x:x+w])\n",
        "          k+=1\n",
        "          j+=nof\n",
        "          cnt+=1\n",
        "          if cv2.waitKey(25) & 0xFF == ord('q'):\n",
        "              break\n",
        "\n",
        "    \n",
        "    v_cap.release()\n",
        "cv2.destroyAllWindows()"
      ],
      "execution_count": null,
      "outputs": []
    },
    {
      "cell_type": "code",
      "metadata": {
        "colab": {
          "base_uri": "https://localhost:8080/"
        },
        "id": "amjcjQCBiCcH",
        "outputId": "8708d8c1-64e7-427e-89d1-1e835933745c"
      },
      "source": [
        "detectFaces('/content/drive/MyDrive/test/real',20,'/content/drive/MyDrive/frame_test/real/f')"
      ],
      "execution_count": null,
      "outputs": [
        {
          "output_type": "stream",
          "text": [
            "20\n",
            "20\n",
            "20\n",
            "20\n",
            "20\n",
            "20\n",
            "20\n",
            "20\n",
            "20\n",
            "20\n",
            "20\n",
            "20\n",
            "20\n",
            "20\n",
            "20\n",
            "20\n",
            "20\n",
            "20\n",
            "20\n",
            "20\n",
            "20\n",
            "20\n",
            "20\n",
            "20\n",
            "20\n",
            "20\n",
            "20\n",
            "20\n",
            "20\n",
            "20\n",
            "20\n",
            "20\n",
            "20\n",
            "20\n",
            "20\n",
            "20\n",
            "20\n",
            "20\n",
            "20\n",
            "20\n",
            "20\n",
            "20\n",
            "20\n",
            "20\n",
            "20\n",
            "20\n",
            "20\n",
            "20\n",
            "20\n",
            "20\n",
            "20\n",
            "20\n",
            "20\n",
            "20\n",
            "20\n",
            "20\n",
            "20\n",
            "20\n",
            "20\n",
            "20\n",
            "20\n",
            "20\n",
            "20\n",
            "20\n",
            "20\n",
            "20\n",
            "20\n",
            "20\n",
            "20\n",
            "20\n",
            "20\n",
            "20\n",
            "20\n",
            "20\n",
            "20\n",
            "20\n",
            "20\n",
            "20\n",
            "20\n",
            "20\n",
            "20\n",
            "20\n",
            "20\n",
            "20\n",
            "20\n",
            "20\n"
          ],
          "name": "stdout"
        }
      ]
    },
    {
      "cell_type": "code",
      "metadata": {
        "id": "uDXxP_rjZ0EI"
      },
      "source": [
        "detectFaces('/content/drive/MyDrive/test/fake',20,'/content/drive/MyDrive/frame_test/fake/f')\n"
      ],
      "execution_count": null,
      "outputs": []
    },
    {
      "cell_type": "code",
      "metadata": {
        "id": "P0XjHpVWtlSU"
      },
      "source": [
        "detectFaces('/content/drive/MyDrive/train/fake',20,'/content/drive/MyDrive/frame_train/fake/f')"
      ],
      "execution_count": null,
      "outputs": []
    },
    {
      "cell_type": "code",
      "metadata": {
        "id": "AZyk9TDhZ3Kk"
      },
      "source": [
        "detectFaces('/content/drive/MyDrive/train/real',20,'/content/drive/MyDrive/frame_train/real/f')\n"
      ],
      "execution_count": null,
      "outputs": []
    }
  ]
}